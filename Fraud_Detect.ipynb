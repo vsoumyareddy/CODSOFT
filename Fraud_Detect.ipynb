{
  "metadata": {
    "kernelspec": {
      "name": "python3",
      "display_name": "Python 3",
      "language": "python"
    },
    "language_info": {
      "name": "python",
      "version": "3.10.13",
      "mimetype": "text/x-python",
      "codemirror_mode": {
        "name": "ipython",
        "version": 3
      },
      "pygments_lexer": "ipython3",
      "nbconvert_exporter": "python",
      "file_extension": ".py"
    },
    "kaggle": {
      "accelerator": "none",
      "dataSources": [
        {
          "sourceId": 1399887,
          "sourceType": "datasetVersion",
          "datasetId": 817870
        }
      ],
      "dockerImageVersionId": 30664,
      "isInternetEnabled": false,
      "language": "python",
      "sourceType": "notebook",
      "isGpuEnabled": false
    },
    "colab": {
      "name": "Fraud Detect",
      "provenance": [],
      "include_colab_link": true
    }
  },
  "nbformat_minor": 0,
  "nbformat": 4,
  "cells": [
    {
      "cell_type": "markdown",
      "metadata": {
        "id": "view-in-github",
        "colab_type": "text"
      },
      "source": [
        "<a href=\"https://colab.research.google.com/github/vsoumyareddy/CODSOFT/blob/main/Fraud_Detect.ipynb\" target=\"_parent\"><img src=\"https://colab.research.google.com/assets/colab-badge.svg\" alt=\"Open In Colab\"/></a>"
      ]
    },
    {
      "source": [
        "\n",
        "# IMPORTANT: RUN THIS CELL IN ORDER TO IMPORT YOUR KAGGLE DATA SOURCES\n",
        "# TO THE CORRECT LOCATION (/kaggle/input) IN YOUR NOTEBOOK,\n",
        "# THEN FEEL FREE TO DELETE THIS CELL.\n",
        "# NOTE: THIS NOTEBOOK ENVIRONMENT DIFFERS FROM KAGGLE'S PYTHON\n",
        "# ENVIRONMENT SO THERE MAY BE MISSING LIBRARIES USED BY YOUR\n",
        "# NOTEBOOK.\n",
        "\n",
        "import os\n",
        "import sys\n",
        "from tempfile import NamedTemporaryFile\n",
        "from urllib.request import urlopen\n",
        "from urllib.parse import unquote, urlparse\n",
        "from urllib.error import HTTPError\n",
        "from zipfile import ZipFile\n",
        "import tarfile\n",
        "import shutil\n",
        "\n",
        "CHUNK_SIZE = 40960\n",
        "DATA_SOURCE_MAPPING = 'fraud-detection:https%3A%2F%2Fstorage.googleapis.com%2Fkaggle-data-sets%2F817870%2F1399887%2Fbundle%2Farchive.zip%3FX-Goog-Algorithm%3DGOOG4-RSA-SHA256%26X-Goog-Credential%3Dgcp-kaggle-com%2540kaggle-161607.iam.gserviceaccount.com%252F20240414%252Fauto%252Fstorage%252Fgoog4_request%26X-Goog-Date%3D20240414T101220Z%26X-Goog-Expires%3D259200%26X-Goog-SignedHeaders%3Dhost%26X-Goog-Signature%3D2ad4a576f10832bfb756f776fdc4e2326cae483acb163425ca6d414c8c47152073c1a2c8e4d702dca4f6d682d031cabfd7e5d849e8c42fb443a2625d33ba48ebec53d29ce4e6429746e359025670d293b9ebfc5e8bc8f45608ed27348de68f11100195c0618a3aaebfc882c901f5463c2203209f310ab6e989dfe9e3b426081d7aaaeafb1e092358170330fbf5f4d858498332f6a1c084c84e977dc1bfc6ad475c051a8bf4109b7713d9482c97c1f3f0c6c694fa155184ca987b1642900a5e89d638255357b09947c23e903f95608ebd19468cd390892b291ea69841e6267031b2dfc43919a509f5766fdd08d5fc2e8a684355f818acf06a7735bcf08c778067'\n",
        "\n",
        "KAGGLE_INPUT_PATH='/kaggle/input'\n",
        "KAGGLE_WORKING_PATH='/kaggle/working'\n",
        "KAGGLE_SYMLINK='kaggle'\n",
        "\n",
        "!umount /kaggle/input/ 2> /dev/null\n",
        "shutil.rmtree('/kaggle/input', ignore_errors=True)\n",
        "os.makedirs(KAGGLE_INPUT_PATH, 0o777, exist_ok=True)\n",
        "os.makedirs(KAGGLE_WORKING_PATH, 0o777, exist_ok=True)\n",
        "\n",
        "try:\n",
        "  os.symlink(KAGGLE_INPUT_PATH, os.path.join(\"..\", 'input'), target_is_directory=True)\n",
        "except FileExistsError:\n",
        "  pass\n",
        "try:\n",
        "  os.symlink(KAGGLE_WORKING_PATH, os.path.join(\"..\", 'working'), target_is_directory=True)\n",
        "except FileExistsError:\n",
        "  pass\n",
        "\n",
        "for data_source_mapping in DATA_SOURCE_MAPPING.split(','):\n",
        "    directory, download_url_encoded = data_source_mapping.split(':')\n",
        "    download_url = unquote(download_url_encoded)\n",
        "    filename = urlparse(download_url).path\n",
        "    destination_path = os.path.join(KAGGLE_INPUT_PATH, directory)\n",
        "    try:\n",
        "        with urlopen(download_url) as fileres, NamedTemporaryFile() as tfile:\n",
        "            total_length = fileres.headers['content-length']\n",
        "            print(f'Downloading {directory}, {total_length} bytes compressed')\n",
        "            dl = 0\n",
        "            data = fileres.read(CHUNK_SIZE)\n",
        "            while len(data) > 0:\n",
        "                dl += len(data)\n",
        "                tfile.write(data)\n",
        "                done = int(50 * dl / int(total_length))\n",
        "                sys.stdout.write(f\"\\r[{'=' * done}{' ' * (50-done)}] {dl} bytes downloaded\")\n",
        "                sys.stdout.flush()\n",
        "                data = fileres.read(CHUNK_SIZE)\n",
        "            if filename.endswith('.zip'):\n",
        "              with ZipFile(tfile) as zfile:\n",
        "                zfile.extractall(destination_path)\n",
        "            else:\n",
        "              with tarfile.open(tfile.name) as tarfile:\n",
        "                tarfile.extractall(destination_path)\n",
        "            print(f'\\nDownloaded and uncompressed: {directory}')\n",
        "    except HTTPError as e:\n",
        "        print(f'Failed to load (likely expired) {download_url} to path {destination_path}')\n",
        "        continue\n",
        "    except OSError as e:\n",
        "        print(f'Failed to load {download_url} to path {destination_path}')\n",
        "        continue\n",
        "\n",
        "print('Data source import complete.')\n"
      ],
      "metadata": {
        "id": "tnh4GR3oF99w",
        "outputId": "27c40bff-8882-484b-ccc0-5947e4f57ed2",
        "colab": {
          "base_uri": "https://localhost:8080/"
        }
      },
      "cell_type": "code",
      "outputs": [
        {
          "output_type": "stream",
          "name": "stdout",
          "text": [
            "Downloading fraud-detection, 211766662 bytes compressed\n",
            "[==================================================] 211766662 bytes downloaded\n",
            "Downloaded and uncompressed: fraud-detection\n",
            "Data source import complete.\n"
          ]
        }
      ],
      "execution_count": 3
    },
    {
      "cell_type": "code",
      "source": [
        "import pandas as pd\n",
        "\n",
        "from sklearn.model_selection import train_test_split\n",
        "from sklearn.preprocessing import LabelEncoder, StandardScaler\n",
        "from sklearn.linear_model import LogisticRegression\n",
        "from sklearn.tree import DecisionTreeClassifier\n",
        "from sklearn.ensemble import RandomForestClassifier\n",
        "from sklearn.metrics import  classification_report\n",
        "from sklearn.metrics import (accuracy_score, precision_score,\n",
        "                             recall_score, f1_score)"
      ],
      "metadata": {
        "execution": {
          "iopub.status.busy": "2024-04-14T09:43:05.945712Z",
          "iopub.execute_input": "2024-04-14T09:43:05.946184Z",
          "iopub.status.idle": "2024-04-14T09:43:05.952985Z",
          "shell.execute_reply.started": "2024-04-14T09:43:05.946152Z",
          "shell.execute_reply": "2024-04-14T09:43:05.951693Z"
        },
        "trusted": true,
        "id": "QDKivN7yF99z"
      },
      "execution_count": 113,
      "outputs": []
    },
    {
      "cell_type": "code",
      "source": [
        "import warnings\n",
        "warnings.filterwarnings('ignore')"
      ],
      "metadata": {
        "id": "WETHxR_pUGnc"
      },
      "execution_count": 111,
      "outputs": []
    },
    {
      "cell_type": "markdown",
      "source": [
        "IMPORT OF DATA"
      ],
      "metadata": {
        "id": "vCLR5vaKF99z"
      }
    },
    {
      "cell_type": "code",
      "source": [
        "df_train = pd.read_csv('/kaggle/input/fraud-detection/fraudTrain.csv')\n",
        "df_test = pd.read_csv('/kaggle/input/fraud-detection/fraudTest.csv')"
      ],
      "metadata": {
        "execution": {
          "iopub.status.busy": "2024-04-14T09:43:06.928495Z",
          "iopub.execute_input": "2024-04-14T09:43:06.928868Z",
          "iopub.status.idle": "2024-04-14T09:43:20.119239Z",
          "shell.execute_reply.started": "2024-04-14T09:43:06.928837Z",
          "shell.execute_reply": "2024-04-14T09:43:20.11823Z"
        },
        "trusted": true,
        "id": "93uUlFHTF990"
      },
      "execution_count": 83,
      "outputs": []
    },
    {
      "cell_type": "code",
      "source": [
        "df_train.shape, df_test.shape"
      ],
      "metadata": {
        "execution": {
          "iopub.status.busy": "2024-04-14T09:43:20.120778Z",
          "iopub.execute_input": "2024-04-14T09:43:20.121513Z",
          "iopub.status.idle": "2024-04-14T09:43:20.129296Z",
          "shell.execute_reply.started": "2024-04-14T09:43:20.121472Z",
          "shell.execute_reply": "2024-04-14T09:43:20.127859Z"
        },
        "trusted": true,
        "id": "-KYmm1BmF990",
        "outputId": "eacc9e01-3cc2-4950-fa35-7ab01865214b",
        "colab": {
          "base_uri": "https://localhost:8080/"
        }
      },
      "execution_count": 84,
      "outputs": [
        {
          "output_type": "execute_result",
          "data": {
            "text/plain": [
              "((1296675, 23), (555719, 23))"
            ]
          },
          "metadata": {},
          "execution_count": 84
        }
      ]
    },
    {
      "cell_type": "markdown",
      "source": [
        "COMBINE OF DATA WITH TRAIN AND TEST"
      ],
      "metadata": {
        "id": "GgOOTCpYF991"
      }
    },
    {
      "cell_type": "code",
      "source": [
        "list(df_train.columns) == list(df_test.columns)"
      ],
      "metadata": {
        "execution": {
          "iopub.status.busy": "2024-04-14T09:43:20.130967Z",
          "iopub.execute_input": "2024-04-14T09:43:20.131302Z",
          "iopub.status.idle": "2024-04-14T09:43:20.145462Z",
          "shell.execute_reply.started": "2024-04-14T09:43:20.131275Z",
          "shell.execute_reply": "2024-04-14T09:43:20.144256Z"
        },
        "trusted": true,
        "id": "ek8k9dnpF991",
        "outputId": "2e1ffa97-9961-4a89-f478-f32ffa2d7ad9",
        "colab": {
          "base_uri": "https://localhost:8080/"
        }
      },
      "execution_count": 85,
      "outputs": [
        {
          "output_type": "execute_result",
          "data": {
            "text/plain": [
              "True"
            ]
          },
          "metadata": {},
          "execution_count": 85
        }
      ]
    },
    {
      "cell_type": "code",
      "source": [
        "df = pd.concat([df_train, df_test])"
      ],
      "metadata": {
        "execution": {
          "iopub.status.busy": "2024-04-14T09:55:48.360863Z",
          "iopub.execute_input": "2024-04-14T09:55:48.361354Z",
          "iopub.status.idle": "2024-04-14T09:55:48.588528Z",
          "shell.execute_reply.started": "2024-04-14T09:55:48.361319Z",
          "shell.execute_reply": "2024-04-14T09:55:48.587148Z"
        },
        "trusted": true,
        "id": "vNUqa6lhF991"
      },
      "execution_count": 86,
      "outputs": []
    },
    {
      "cell_type": "code",
      "source": [
        "df.shape"
      ],
      "metadata": {
        "execution": {
          "iopub.status.busy": "2024-04-14T09:43:20.512049Z",
          "iopub.execute_input": "2024-04-14T09:43:20.51241Z",
          "iopub.status.idle": "2024-04-14T09:43:20.520499Z",
          "shell.execute_reply.started": "2024-04-14T09:43:20.512379Z",
          "shell.execute_reply": "2024-04-14T09:43:20.518914Z"
        },
        "trusted": true,
        "id": "BqF_9SqGF992",
        "outputId": "56e062f6-86da-4bbd-beaf-771500c0070a",
        "colab": {
          "base_uri": "https://localhost:8080/"
        }
      },
      "execution_count": 87,
      "outputs": [
        {
          "output_type": "execute_result",
          "data": {
            "text/plain": [
              "(1852394, 23)"
            ]
          },
          "metadata": {},
          "execution_count": 87
        }
      ]
    },
    {
      "cell_type": "code",
      "source": [
        "df.info()"
      ],
      "metadata": {
        "execution": {
          "iopub.status.busy": "2024-04-14T09:43:20.522359Z",
          "iopub.execute_input": "2024-04-14T09:43:20.522746Z",
          "iopub.status.idle": "2024-04-14T09:43:20.542456Z",
          "shell.execute_reply.started": "2024-04-14T09:43:20.522715Z",
          "shell.execute_reply": "2024-04-14T09:43:20.541206Z"
        },
        "trusted": true,
        "id": "fiRsEQ6hF992",
        "outputId": "7c933e48-a012-4f1d-de73-7c6b18fdf2b4",
        "colab": {
          "base_uri": "https://localhost:8080/"
        }
      },
      "execution_count": 88,
      "outputs": [
        {
          "output_type": "stream",
          "name": "stdout",
          "text": [
            "<class 'pandas.core.frame.DataFrame'>\n",
            "Index: 1852394 entries, 0 to 555718\n",
            "Data columns (total 23 columns):\n",
            " #   Column                 Dtype  \n",
            "---  ------                 -----  \n",
            " 0   Unnamed: 0             int64  \n",
            " 1   trans_date_trans_time  object \n",
            " 2   cc_num                 int64  \n",
            " 3   merchant               object \n",
            " 4   category               object \n",
            " 5   amt                    float64\n",
            " 6   first                  object \n",
            " 7   last                   object \n",
            " 8   gender                 object \n",
            " 9   street                 object \n",
            " 10  city                   object \n",
            " 11  state                  object \n",
            " 12  zip                    int64  \n",
            " 13  lat                    float64\n",
            " 14  long                   float64\n",
            " 15  city_pop               int64  \n",
            " 16  job                    object \n",
            " 17  dob                    object \n",
            " 18  trans_num              object \n",
            " 19  unix_time              int64  \n",
            " 20  merch_lat              float64\n",
            " 21  merch_long             float64\n",
            " 22  is_fraud               int64  \n",
            "dtypes: float64(5), int64(6), object(12)\n",
            "memory usage: 339.2+ MB\n"
          ]
        }
      ]
    },
    {
      "cell_type": "markdown",
      "source": [
        "REMOVE UNNECESSARY DATA -DATA CLEANING"
      ],
      "metadata": {
        "id": "EFan0-UoF992"
      }
    },
    {
      "cell_type": "code",
      "source": [
        "df =df.drop(['cc_num','first', 'last', 'street', 'city', 'state', 'zip', 'dob','merchant' ,'job','trans_num','trans_date_trans_time'],axis=1)"
      ],
      "metadata": {
        "execution": {
          "iopub.status.busy": "2024-04-14T09:55:53.329986Z",
          "iopub.execute_input": "2024-04-14T09:55:53.330389Z",
          "iopub.status.idle": "2024-04-14T09:55:53.596406Z",
          "shell.execute_reply.started": "2024-04-14T09:55:53.33036Z",
          "shell.execute_reply": "2024-04-14T09:55:53.594577Z"
        },
        "trusted": true,
        "id": "t-NoVJSfF992"
      },
      "execution_count": 89,
      "outputs": []
    },
    {
      "cell_type": "markdown",
      "source": [
        "ENCODER"
      ],
      "metadata": {
        "id": "Io_Ft5JfUfGQ"
      }
    },
    {
      "cell_type": "code",
      "source": [
        "from sklearn.preprocessing import LabelEncoder\n",
        "encoder = LabelEncoder()\n",
        "# Fit and transform the 'category' column\n",
        "df['category'] = encoder.fit_transform(df[['category']])\n",
        "df['gender'] = encoder.fit_transform(df[['gender']])\n"
      ],
      "metadata": {
        "id": "WeVIp-doQSwn"
      },
      "execution_count": 125,
      "outputs": []
    },
    {
      "cell_type": "markdown",
      "source": [
        "PLOT OF FRAUD AND CATEGORY"
      ],
      "metadata": {
        "id": "ytvZ72TBUxdd"
      }
    },
    {
      "cell_type": "code",
      "source": [
        "\n",
        "import matplotlib.pyplot as plt\n",
        "import seaborn as sns\n",
        "plt.figure(figsize=(15, 6))\n",
        "sns.barplot(x = 'category', y = 'is_fraud', data = df)\n",
        "plt.title('Fraud vs Category')\n",
        "plt.show()\n"
      ],
      "metadata": {
        "id": "eh3Efyc-TZCf",
        "outputId": "ca3bce23-0f47-4156-9431-dd004f9f222b",
        "colab": {
          "base_uri": "https://localhost:8080/",
          "height": 553
        }
      },
      "execution_count": 93,
      "outputs": [
        {
          "output_type": "display_data",
          "data": {
            "text/plain": [
              "<Figure size 1500x600 with 1 Axes>"
            ],
            "image/png": "[encoded data removed]"
          },
          "metadata": {}
        }
      ]
    },
    {
      "cell_type": "code",
      "source": [
        "df.head(5)"
      ],
      "metadata": {
        "execution": {
          "iopub.status.busy": "2024-04-14T09:55:57.896241Z",
          "iopub.execute_input": "2024-04-14T09:55:57.896615Z",
          "iopub.status.idle": "2024-04-14T09:55:57.916543Z",
          "shell.execute_reply.started": "2024-04-14T09:55:57.896587Z",
          "shell.execute_reply": "2024-04-14T09:55:57.915462Z"
        },
        "trusted": true,
        "id": "-fWGv7bTF992",
        "outputId": "72c23ef3-637a-4074-cd2a-454d5de52358",
        "colab": {
          "base_uri": "https://localhost:8080/",
          "height": 206
        }
      },
      "execution_count": 95,
      "outputs": [
        {
          "output_type": "execute_result",
          "data": {
            "text/plain": [
              "   Unnamed: 0  category     amt  gender      lat      long  city_pop  \\\n",
              "0           0         8    4.97       0  36.0788  -81.1781      3495   \n",
              "1           1         4  107.23       0  48.8878 -118.2105       149   \n",
              "2           2         0  220.11       1  42.1808 -112.2620      4154   \n",
              "3           3         2   45.00       1  46.2306 -112.1138      1939   \n",
              "4           4         9   41.96       1  38.4207  -79.4629        99   \n",
              "\n",
              "    unix_time  merch_lat  merch_long  is_fraud  \n",
              "0  1325376018  36.011293  -82.048315         0  \n",
              "1  1325376044  49.159047 -118.186462         0  \n",
              "2  1325376051  43.150704 -112.154481         0  \n",
              "3  1325376076  47.034331 -112.561071         0  \n",
              "4  1325376186  38.674999  -78.632459         0  "
            ],
            "text/html": [
              "\n",
              "  <div id=\"df-46b0bcac-068d-4c04-877d-ea31d5399e99\" class=\"colab-df-container\">\n",
              "    <div>\n",
              "<style scoped>\n",
              "    .dataframe tbody tr th:only-of-type {\n",
              "        vertical-align: middle;\n",
              "    }\n",
              "\n",
              "    .dataframe tbody tr th {\n",
              "        vertical-align: top;\n",
              "    }\n",
              "\n",
              "    .dataframe thead th {\n",
              "        text-align: right;\n",
              "    }\n",
              "</style>\n",
              "<table border=\"1\" class=\"dataframe\">\n",
              "  <thead>\n",
              "    <tr style=\"text-align: right;\">\n",
              "      <th></th>\n",
              "      <th>Unnamed: 0</th>\n",
              "      <th>category</th>\n",
              "      <th>amt</th>\n",
              "      <th>gender</th>\n",
              "      <th>lat</th>\n",
              "      <th>long</th>\n",
              "      <th>city_pop</th>\n",
              "      <th>unix_time</th>\n",
              "      <th>merch_lat</th>\n",
              "      <th>merch_long</th>\n",
              "      <th>is_fraud</th>\n",
              "    </tr>\n",
              "  </thead>\n",
              "  <tbody>\n",
              "    <tr>\n",
              "      <th>0</th>\n",
              "      <td>0</td>\n",
              "      <td>8</td>\n",
              "      <td>4.97</td>\n",
              "      <td>0</td>\n",
              "      <td>36.0788</td>\n",
              "      <td>-81.1781</td>\n",
              "      <td>3495</td>\n",
              "      <td>1325376018</td>\n",
              "      <td>36.011293</td>\n",
              "      <td>-82.048315</td>\n",
              "      <td>0</td>\n",
              "    </tr>\n",
              "    <tr>\n",
              "      <th>1</th>\n",
              "      <td>1</td>\n",
              "      <td>4</td>\n",
              "      <td>107.23</td>\n",
              "      <td>0</td>\n",
              "      <td>48.8878</td>\n",
              "      <td>-118.2105</td>\n",
              "      <td>149</td>\n",
              "      <td>1325376044</td>\n",
              "      <td>49.159047</td>\n",
              "      <td>-118.186462</td>\n",
              "      <td>0</td>\n",
              "    </tr>\n",
              "    <tr>\n",
              "      <th>2</th>\n",
              "      <td>2</td>\n",
              "      <td>0</td>\n",
              "      <td>220.11</td>\n",
              "      <td>1</td>\n",
              "      <td>42.1808</td>\n",
              "      <td>-112.2620</td>\n",
              "      <td>4154</td>\n",
              "      <td>1325376051</td>\n",
              "      <td>43.150704</td>\n",
              "      <td>-112.154481</td>\n",
              "      <td>0</td>\n",
              "    </tr>\n",
              "    <tr>\n",
              "      <th>3</th>\n",
              "      <td>3</td>\n",
              "      <td>2</td>\n",
              "      <td>45.00</td>\n",
              "      <td>1</td>\n",
              "      <td>46.2306</td>\n",
              "      <td>-112.1138</td>\n",
              "      <td>1939</td>\n",
              "      <td>1325376076</td>\n",
              "      <td>47.034331</td>\n",
              "      <td>-112.561071</td>\n",
              "      <td>0</td>\n",
              "    </tr>\n",
              "    <tr>\n",
              "      <th>4</th>\n",
              "      <td>4</td>\n",
              "      <td>9</td>\n",
              "      <td>41.96</td>\n",
              "      <td>1</td>\n",
              "      <td>38.4207</td>\n",
              "      <td>-79.4629</td>\n",
              "      <td>99</td>\n",
              "      <td>1325376186</td>\n",
              "      <td>38.674999</td>\n",
              "      <td>-78.632459</td>\n",
              "      <td>0</td>\n",
              "    </tr>\n",
              "  </tbody>\n",
              "</table>\n",
              "</div>\n",
              "    <div class=\"colab-df-buttons\">\n",
              "\n",
              "  <div class=\"colab-df-container\">\n",
              "    <button class=\"colab-df-convert\" onclick=\"convertToInteractive('df-46b0bcac-068d-4c04-877d-ea31d5399e99')\"\n",
              "            title=\"Convert this dataframe to an interactive table.\"\n",
              "            style=\"display:none;\">\n",
              "\n",
              "  <svg xmlns=\"http://www.w3.org/2000/svg\" height=\"24px\" viewBox=\"0 -960 960 960\">\n",
              "    <path d=\"M120-120v-720h720v720H120Zm60-500h600v-160H180v160Zm220 220h160v-160H400v160Zm0 220h160v-160H400v160ZM180-400h160v-160H180v160Zm440 0h160v-160H620v160ZM180-180h160v-160H180v160Zm440 0h160v-160H620v160Z\"/>\n",
              "  </svg>\n",
              "    </button>\n",
              "\n",
              "  <style>\n",
              "    .colab-df-container {\n",
              "      display:flex;\n",
              "      gap: 12px;\n",
              "    }\n",
              "\n",
              "    .colab-df-convert {\n",
              "      background-color: #E8F0FE;\n",
              "      border: none;\n",
              "      border-radius: 50%;\n",
              "      cursor: pointer;\n",
              "      display: none;\n",
              "      fill: #1967D2;\n",
              "      height: 32px;\n",
              "      padding: 0 0 0 0;\n",
              "      width: 32px;\n",
              "    }\n",
              "\n",
              "    .colab-df-convert:hover {\n",
              "      background-color: #E2EBFA;\n",
              "      box-shadow: 0px 1px 2px rgba(60, 64, 67, 0.3), 0px 1px 3px 1px rgba(60, 64, 67, 0.15);\n",
              "      fill: #174EA6;\n",
              "    }\n",
              "\n",
              "    .colab-df-buttons div {\n",
              "      margin-bottom: 4px;\n",
              "    }\n",
              "\n",
              "    [theme=dark] .colab-df-convert {\n",
              "      background-color: #3B4455;\n",
              "      fill: #D2E3FC;\n",
              "    }\n",
              "\n",
              "    [theme=dark] .colab-df-convert:hover {\n",
              "      background-color: #434B5C;\n",
              "      box-shadow: 0px 1px 3px 1px rgba(0, 0, 0, 0.15);\n",
              "      filter: drop-shadow(0px 1px 2px rgba(0, 0, 0, 0.3));\n",
              "      fill: #FFFFFF;\n",
              "    }\n",
              "  </style>\n",
              "\n",
              "    <script>\n",
              "      const buttonEl =\n",
              "        document.querySelector('#df-46b0bcac-068d-4c04-877d-ea31d5399e99 button.colab-df-convert');\n",
              "      buttonEl.style.display =\n",
              "        google.colab.kernel.accessAllowed ? 'block' : 'none';\n",
              "\n",
              "      async function convertToInteractive(key) {\n",
              "        const element = document.querySelector('#df-46b0bcac-068d-4c04-877d-ea31d5399e99');\n",
              "        const dataTable =\n",
              "          await google.colab.kernel.invokeFunction('convertToInteractive',\n",
              "                                                    [key], {});\n",
              "        if (!dataTable) return;\n",
              "\n",
              "        const docLinkHtml = 'Like what you see? Visit the ' +\n",
              "          '<a target=\"_blank\" href=https://colab.research.google.com/notebooks/data_table.ipynb>data table notebook</a>'\n",
              "          + ' to learn more about interactive tables.';\n",
              "        element.innerHTML = '';\n",
              "        dataTable['output_type'] = 'display_data';\n",
              "        await google.colab.output.renderOutput(dataTable, element);\n",
              "        const docLink = document.createElement('div');\n",
              "        docLink.innerHTML = docLinkHtml;\n",
              "        element.appendChild(docLink);\n",
              "      }\n",
              "    </script>\n",
              "  </div>\n",
              "\n",
              "\n",
              "<div id=\"df-79b2f459-7db3-46e6-b50a-b8fd12fdcaec\">\n",
              "  <button class=\"colab-df-quickchart\" onclick=\"quickchart('df-79b2f459-7db3-46e6-b50a-b8fd12fdcaec')\"\n",
              "            title=\"Suggest charts\"\n",
              "            style=\"display:none;\">\n",
              "\n",
              "<svg xmlns=\"http://www.w3.org/2000/svg\" height=\"24px\"viewBox=\"0 0 24 24\"\n",
              "     width=\"24px\">\n",
              "    <g>\n",
              "        <path d=\"M19 3H5c-1.1 0-2 .9-2 2v14c0 1.1.9 2 2 2h14c1.1 0 2-.9 2-2V5c0-1.1-.9-2-2-2zM9 17H7v-7h2v7zm4 0h-2V7h2v10zm4 0h-2v-4h2v4z\"/>\n",
              "    </g>\n",
              "</svg>\n",
              "  </button>\n",
              "\n",
              "<style>\n",
              "  .colab-df-quickchart {\n",
              "      --bg-color: #E8F0FE;\n",
              "      --fill-color: #1967D2;\n",
              "      --hover-bg-color: #E2EBFA;\n",
              "      --hover-fill-color: #174EA6;\n",
              "      --disabled-fill-color: #AAA;\n",
              "      --disabled-bg-color: #DDD;\n",
              "  }\n",
              "\n",
              "  [theme=dark] .colab-df-quickchart {\n",
              "      --bg-color: #3B4455;\n",
              "      --fill-color: #D2E3FC;\n",
              "      --hover-bg-color: #434B5C;\n",
              "      --hover-fill-color: #FFFFFF;\n",
              "      --disabled-bg-color: #3B4455;\n",
              "      --disabled-fill-color: #666;\n",
              "  }\n",
              "\n",
              "  .colab-df-quickchart {\n",
              "    background-color: var(--bg-color);\n",
              "    border: none;\n",
              "    border-radius: 50%;\n",
              "    cursor: pointer;\n",
              "    display: none;\n",
              "    fill: var(--fill-color);\n",
              "    height: 32px;\n",
              "    padding: 0;\n",
              "    width: 32px;\n",
              "  }\n",
              "\n",
              "  .colab-df-quickchart:hover {\n",
              "    background-color: var(--hover-bg-color);\n",
              "    box-shadow: 0 1px 2px rgba(60, 64, 67, 0.3), 0 1px 3px 1px rgba(60, 64, 67, 0.15);\n",
              "    fill: var(--button-hover-fill-color);\n",
              "  }\n",
              "\n",
              "  .colab-df-quickchart-complete:disabled,\n",
              "  .colab-df-quickchart-complete:disabled:hover {\n",
              "    background-color: var(--disabled-bg-color);\n",
              "    fill: var(--disabled-fill-color);\n",
              "    box-shadow: none;\n",
              "  }\n",
              "\n",
              "  .colab-df-spinner {\n",
              "    border: 2px solid var(--fill-color);\n",
              "    border-color: transparent;\n",
              "    border-bottom-color: var(--fill-color);\n",
              "    animation:\n",
              "      spin 1s steps(1) infinite;\n",
              "  }\n",
              "\n",
              "  @keyframes spin {\n",
              "    0% {\n",
              "      border-color: transparent;\n",
              "      border-bottom-color: var(--fill-color);\n",
              "      border-left-color: var(--fill-color);\n",
              "    }\n",
              "    20% {\n",
              "      border-color: transparent;\n",
              "      border-left-color: var(--fill-color);\n",
              "      border-top-color: var(--fill-color);\n",
              "    }\n",
              "    30% {\n",
              "      border-color: transparent;\n",
              "      border-left-color: var(--fill-color);\n",
              "      border-top-color: var(--fill-color);\n",
              "      border-right-color: var(--fill-color);\n",
              "    }\n",
              "    40% {\n",
              "      border-color: transparent;\n",
              "      border-right-color: var(--fill-color);\n",
              "      border-top-color: var(--fill-color);\n",
              "    }\n",
              "    60% {\n",
              "      border-color: transparent;\n",
              "      border-right-color: var(--fill-color);\n",
              "    }\n",
              "    80% {\n",
              "      border-color: transparent;\n",
              "      border-right-color: var(--fill-color);\n",
              "      border-bottom-color: var(--fill-color);\n",
              "    }\n",
              "    90% {\n",
              "      border-color: transparent;\n",
              "      border-bottom-color: var(--fill-color);\n",
              "    }\n",
              "  }\n",
              "</style>\n",
              "\n",
              "  <script>\n",
              "    async function quickchart(key) {\n",
              "      const quickchartButtonEl =\n",
              "        document.querySelector('#' + key + ' button');\n",
              "      quickchartButtonEl.disabled = true;  // To prevent multiple clicks.\n",
              "      quickchartButtonEl.classList.add('colab-df-spinner');\n",
              "      try {\n",
              "        const charts = await google.colab.kernel.invokeFunction(\n",
              "            'suggestCharts', [key], {});\n",
              "      } catch (error) {\n",
              "        console.error('Error during call to suggestCharts:', error);\n",
              "      }\n",
              "      quickchartButtonEl.classList.remove('colab-df-spinner');\n",
              "      quickchartButtonEl.classList.add('colab-df-quickchart-complete');\n",
              "    }\n",
              "    (() => {\n",
              "      let quickchartButtonEl =\n",
              "        document.querySelector('#df-79b2f459-7db3-46e6-b50a-b8fd12fdcaec button');\n",
              "      quickchartButtonEl.style.display =\n",
              "        google.colab.kernel.accessAllowed ? 'block' : 'none';\n",
              "    })();\n",
              "  </script>\n",
              "</div>\n",
              "\n",
              "    </div>\n",
              "  </div>\n"
            ],
            "application/vnd.google.colaboratory.intrinsic+json": {
              "type": "dataframe",
              "variable_name": "df"
            }
          },
          "metadata": {},
          "execution_count": 95
        }
      ]
    },
    {
      "cell_type": "code",
      "source": [
        "df.info()"
      ],
      "metadata": {
        "execution": {
          "iopub.status.busy": "2024-04-14T09:56:07.000014Z",
          "iopub.execute_input": "2024-04-14T09:56:07.000452Z",
          "iopub.status.idle": "2024-04-14T09:56:07.013714Z",
          "shell.execute_reply.started": "2024-04-14T09:56:07.000419Z",
          "shell.execute_reply": "2024-04-14T09:56:07.012158Z"
        },
        "trusted": true,
        "id": "3UNVh4VbF993",
        "outputId": "eb7b5481-4e63-4e28-9d6f-27395de861e2",
        "colab": {
          "base_uri": "https://localhost:8080/"
        }
      },
      "execution_count": 96,
      "outputs": [
        {
          "output_type": "stream",
          "name": "stdout",
          "text": [
            "<class 'pandas.core.frame.DataFrame'>\n",
            "Index: 1852394 entries, 0 to 555718\n",
            "Data columns (total 11 columns):\n",
            " #   Column      Dtype  \n",
            "---  ------      -----  \n",
            " 0   Unnamed: 0  int64  \n",
            " 1   category    int64  \n",
            " 2   amt         float64\n",
            " 3   gender      int64  \n",
            " 4   lat         float64\n",
            " 5   long        float64\n",
            " 6   city_pop    int64  \n",
            " 7   unix_time   int64  \n",
            " 8   merch_lat   float64\n",
            " 9   merch_long  float64\n",
            " 10  is_fraud    int64  \n",
            "dtypes: float64(5), int64(6)\n",
            "memory usage: 169.6 MB\n"
          ]
        }
      ]
    },
    {
      "cell_type": "markdown",
      "source": [
        "TRAIN AND TEST"
      ],
      "metadata": {
        "id": "XtxBF4mqF993"
      }
    },
    {
      "cell_type": "code",
      "source": [
        "x = df.drop(columns=['is_fraud'])\n",
        "y = df['is_fraud']"
      ],
      "metadata": {
        "execution": {
          "iopub.status.busy": "2024-04-14T10:05:38.602042Z",
          "iopub.execute_input": "2024-04-14T10:05:38.602431Z",
          "iopub.status.idle": "2024-04-14T10:05:38.726158Z",
          "shell.execute_reply.started": "2024-04-14T10:05:38.602402Z",
          "shell.execute_reply": "2024-04-14T10:05:38.72477Z"
        },
        "trusted": true,
        "id": "zeWZb2wgF993"
      },
      "execution_count": 98,
      "outputs": []
    },
    {
      "cell_type": "code",
      "source": [
        "x_train, x_test, y_train, y_test = train_test_split(x, y, test_size=0.3, random_state=42)"
      ],
      "metadata": {
        "execution": {
          "iopub.status.busy": "2024-04-14T10:05:44.234033Z",
          "iopub.execute_input": "2024-04-14T10:05:44.234435Z",
          "iopub.status.idle": "2024-04-14T10:05:45.425589Z",
          "shell.execute_reply.started": "2024-04-14T10:05:44.234405Z",
          "shell.execute_reply": "2024-04-14T10:05:45.424365Z"
        },
        "trusted": true,
        "id": "B1E8ZouRF993"
      },
      "execution_count": 99,
      "outputs": []
    },
    {
      "cell_type": "markdown",
      "source": [
        "TOTAL FRAUD PERCENTAGE"
      ],
      "metadata": {
        "id": "iqyu73ilMUmT"
      }
    },
    {
      "cell_type": "code",
      "source": [
        "fraudulent_count = df['is_fraud'].sum()\n",
        "legitimate_count = len(df) - fraudulent_count\n",
        "\n",
        "# Calculate the percentage of fraudulent and legitimate transactions\n",
        "total_transactions = len(df)\n",
        "fraudulent_percentage = (fraudulent_count / total_transactions) * 100\n",
        "legitimate_percentage = (legitimate_count / total_transactions) * 100\n",
        "\n",
        "print(\"Fraudulent transactions: {} ({:.2f}%)\".format(fraudulent_count, fraudulent_percentage))\n",
        "print(\"Legitimate transactions: {} ({:.2f}%)\".format(legitimate_count, legitimate_percentage))"
      ],
      "metadata": {
        "id": "FYjQyL26MT9D",
        "outputId": "d77ea219-b005-41d2-d186-2a75e701328f",
        "colab": {
          "base_uri": "https://localhost:8080/"
        }
      },
      "execution_count": 100,
      "outputs": [
        {
          "output_type": "stream",
          "name": "stdout",
          "text": [
            "Fraudulent transactions: 9651 (0.52%)\n",
            "Legitimate transactions: 1842743 (99.48%)\n"
          ]
        }
      ]
    },
    {
      "cell_type": "markdown",
      "source": [
        "LOGISTIC REEGRESSION"
      ],
      "metadata": {
        "id": "tmVxZRNnF993"
      }
    },
    {
      "cell_type": "code",
      "source": [
        "lr_1 = LogisticRegression()\n",
        "lr_1.fit(x_train, y_train)\n",
        "accuracy_score(y_train, lr_1.predict(x_train))"
      ],
      "metadata": {
        "execution": {
          "iopub.status.busy": "2024-04-14T10:11:31.580176Z",
          "iopub.execute_input": "2024-04-14T10:11:31.5806Z",
          "iopub.status.idle": "2024-04-14T10:11:32.517934Z",
          "shell.execute_reply.started": "2024-04-14T10:11:31.580566Z",
          "shell.execute_reply": "2024-04-14T10:11:32.516177Z"
        },
        "trusted": true,
        "id": "ELAldecNF993",
        "outputId": "5c33bceb-f2c1-4131-af30-7d6524426794",
        "colab": {
          "base_uri": "https://localhost:8080/"
        }
      },
      "execution_count": 101,
      "outputs": [
        {
          "output_type": "execute_result",
          "data": {
            "text/plain": [
              "0.9948229124491488"
            ]
          },
          "metadata": {},
          "execution_count": 101
        }
      ]
    },
    {
      "cell_type": "code",
      "source": [
        "accuracy_score(y_test, lr_1.predict(x_test))"
      ],
      "metadata": {
        "id": "qpdDLIaQF993",
        "outputId": "0384a67d-cfdc-4f31-f2c3-985de0cc8ee4",
        "colab": {
          "base_uri": "https://localhost:8080/"
        }
      },
      "execution_count": 102,
      "outputs": [
        {
          "output_type": "execute_result",
          "data": {
            "text/plain": [
              "0.9947131553896843"
            ]
          },
          "metadata": {},
          "execution_count": 102
        }
      ]
    },
    {
      "cell_type": "code",
      "source": [
        "report = classification_report(y_test, lr_1.predict(x_test))\n",
        "print(report)"
      ],
      "metadata": {
        "id": "c8Y8izRWF993",
        "outputId": "6ba32619-9bfa-4a1e-9927-c4b4f8ab974d",
        "colab": {
          "base_uri": "https://localhost:8080/"
        }
      },
      "execution_count": 115,
      "outputs": [
        {
          "output_type": "stream",
          "name": "stdout",
          "text": [
            "              precision    recall  f1-score   support\n",
            "\n",
            "           0       0.99      1.00      1.00    552781\n",
            "           1       0.00      0.00      0.00      2938\n",
            "\n",
            "    accuracy                           0.99    555719\n",
            "   macro avg       0.50      0.50      0.50    555719\n",
            "weighted avg       0.99      0.99      0.99    555719\n",
            "\n"
          ]
        }
      ]
    },
    {
      "cell_type": "code",
      "source": [
        "table_1 = {}\n",
        "table_1[\"LOGISTIC REGRESSION\"] = (accuracy_score(y_test, lr_1.predict(x_test)),\n",
        "                               precision_score(y_test, lr_1.predict(x_test), average='micro'),\n",
        "                               recall_score(y_test, lr_1.predict(x_test), average='micro'),\n",
        "                               f1_score(y_test, lr_1.predict(x_test), average='micro'))"
      ],
      "metadata": {
        "id": "ysUIOrCjVUl8"
      },
      "execution_count": 114,
      "outputs": []
    },
    {
      "cell_type": "markdown",
      "source": [
        "DECISION TREE"
      ],
      "metadata": {
        "id": "VewtnakVF993"
      }
    },
    {
      "cell_type": "code",
      "source": [
        "dt_1= DecisionTreeClassifier()\n",
        "dt_1.fit(x_train, y_train)\n",
        "accuracy_score(y_train, dt_1.predict(x_train))"
      ],
      "metadata": {
        "id": "1ehTfNBkF993",
        "outputId": "9fdeb974-d46c-4622-8c66-ffe5a736c895",
        "colab": {
          "base_uri": "https://localhost:8080/"
        }
      },
      "execution_count": 104,
      "outputs": [
        {
          "output_type": "execute_result",
          "data": {
            "text/plain": [
              "1.0"
            ]
          },
          "metadata": {},
          "execution_count": 104
        }
      ]
    },
    {
      "cell_type": "code",
      "source": [
        "accuracy_score(y_test, dt_1.predict(x_test))"
      ],
      "metadata": {
        "id": "OIOCO5xMF993",
        "outputId": "4e95e6d6-8d32-4554-dee6-7549a85a91f8",
        "colab": {
          "base_uri": "https://localhost:8080/"
        }
      },
      "execution_count": 105,
      "outputs": [
        {
          "output_type": "execute_result",
          "data": {
            "text/plain": [
              "0.9962768953373917"
            ]
          },
          "metadata": {},
          "execution_count": 105
        }
      ]
    },
    {
      "cell_type": "code",
      "source": [
        "report = classification_report(y_test, dt_1.predict(x_test))\n",
        "print(report)"
      ],
      "metadata": {
        "id": "a5ZS0kTcF993",
        "outputId": "ba85be61-2f1d-4ef3-e3a5-d5a878f6d5a1",
        "colab": {
          "base_uri": "https://localhost:8080/"
        }
      },
      "execution_count": 116,
      "outputs": [
        {
          "output_type": "stream",
          "name": "stdout",
          "text": [
            "              precision    recall  f1-score   support\n",
            "\n",
            "           0       1.00      1.00      1.00    552781\n",
            "           1       0.64      0.67      0.66      2938\n",
            "\n",
            "    accuracy                           1.00    555719\n",
            "   macro avg       0.82      0.83      0.83    555719\n",
            "weighted avg       1.00      1.00      1.00    555719\n",
            "\n"
          ]
        }
      ]
    },
    {
      "cell_type": "code",
      "source": [
        "table_1[\"DECISION TREE\"] = (accuracy_score(y_test, dt_1.predict(x_test)),\n",
        "                               precision_score(y_test, dt_1.predict(x_test), average='micro'),\n",
        "                               recall_score(y_test, dt_1.predict(x_test), average='micro'),\n",
        "                               f1_score(y_test, dt_1.predict(x_test), average='micro'))"
      ],
      "metadata": {
        "id": "RsUPWs24Vi0S"
      },
      "execution_count": 120,
      "outputs": []
    },
    {
      "cell_type": "markdown",
      "source": [
        "RANDOM FOREST"
      ],
      "metadata": {
        "id": "07a6pDi6F993"
      }
    },
    {
      "cell_type": "code",
      "source": [
        "from sklearn.ensemble import RandomForestClassifier\n",
        "rf_1 = RandomForestClassifier()\n",
        "rf_1.fit(x_train, y_train)\n",
        "accuracy_score(y_train, rf_1.predict(x_train))"
      ],
      "metadata": {
        "id": "iJqwWqQtF993",
        "outputId": "fe2d2383-7da6-4b1b-fb36-dcdf90f328da",
        "colab": {
          "base_uri": "https://localhost:8080/"
        }
      },
      "execution_count": 119,
      "outputs": [
        {
          "output_type": "execute_result",
          "data": {
            "text/plain": [
              "0.9999984575934602"
            ]
          },
          "metadata": {},
          "execution_count": 119
        }
      ]
    },
    {
      "cell_type": "code",
      "source": [
        "accuracy_score(y_test, rf_1.predict(x_test))"
      ],
      "metadata": {
        "id": "Sz6hu2LqF993",
        "outputId": "c4f07d8c-09de-448b-ce93-2e323e813b2b",
        "colab": {
          "base_uri": "https://localhost:8080/"
        }
      },
      "execution_count": 121,
      "outputs": [
        {
          "output_type": "execute_result",
          "data": {
            "text/plain": [
              "0.9976642871667155"
            ]
          },
          "metadata": {},
          "execution_count": 121
        }
      ]
    },
    {
      "cell_type": "code",
      "source": [
        "report = classification_report(y_test, rf_1.predict(x_test))\n",
        "print(report)"
      ],
      "metadata": {
        "id": "Tlb-u6JVF993",
        "outputId": "155c6ee7-5b01-4b51-f455-b238282c7c8c",
        "colab": {
          "base_uri": "https://localhost:8080/"
        }
      },
      "execution_count": 122,
      "outputs": [
        {
          "output_type": "stream",
          "name": "stdout",
          "text": [
            "              precision    recall  f1-score   support\n",
            "\n",
            "           0       1.00      1.00      1.00    552781\n",
            "           1       0.86      0.67      0.75      2938\n",
            "\n",
            "    accuracy                           1.00    555719\n",
            "   macro avg       0.93      0.83      0.88    555719\n",
            "weighted avg       1.00      1.00      1.00    555719\n",
            "\n"
          ]
        }
      ]
    },
    {
      "cell_type": "code",
      "source": [
        "table_1[\"RANDOM FOREST\"] = (accuracy_score(y_test, rf_1.predict(x_test)),\n",
        "                               precision_score(y_test, rf_1.predict(x_test), average='micro'),\n",
        "                               recall_score(y_test, rf_1.predict(x_test), average='micro'),\n",
        "                               f1_score(y_test, rf_1.predict(x_test), average='micro'))"
      ],
      "metadata": {
        "id": "joqBHY9rGQGg"
      },
      "execution_count": 123,
      "outputs": []
    },
    {
      "cell_type": "code",
      "source": [
        "pd.DataFrame(table_1, index=[\"accuracy\", \"precision\", \"recall\", \"f1score\"])"
      ],
      "metadata": {
        "id": "xLRIL4HIYub1",
        "outputId": "5483c17e-adbe-4f56-9d9a-446af469ab1f",
        "colab": {
          "base_uri": "https://localhost:8080/",
          "height": 174
        }
      },
      "execution_count": 124,
      "outputs": [
        {
          "output_type": "execute_result",
          "data": {
            "text/plain": [
              "           LOGISTIC REGRESSION  DECISION TREE  RANDOM FOREST\n",
              "accuracy              0.994713       0.996277       0.997664\n",
              "precision             0.994713       0.996277       0.997664\n",
              "recall                0.994713       0.996277       0.997664\n",
              "f1score               0.994713       0.996277       0.997664"
            ],
            "text/html": [
              "\n",
              "  <div id=\"df-7155fdaf-2b8c-4c0f-be4b-57784f37b67a\" class=\"colab-df-container\">\n",
              "    <div>\n",
              "<style scoped>\n",
              "    .dataframe tbody tr th:only-of-type {\n",
              "        vertical-align: middle;\n",
              "    }\n",
              "\n",
              "    .dataframe tbody tr th {\n",
              "        vertical-align: top;\n",
              "    }\n",
              "\n",
              "    .dataframe thead th {\n",
              "        text-align: right;\n",
              "    }\n",
              "</style>\n",
              "<table border=\"1\" class=\"dataframe\">\n",
              "  <thead>\n",
              "    <tr style=\"text-align: right;\">\n",
              "      <th></th>\n",
              "      <th>LOGISTIC REGRESSION</th>\n",
              "      <th>DECISION TREE</th>\n",
              "      <th>RANDOM FOREST</th>\n",
              "    </tr>\n",
              "  </thead>\n",
              "  <tbody>\n",
              "    <tr>\n",
              "      <th>accuracy</th>\n",
              "      <td>0.994713</td>\n",
              "      <td>0.996277</td>\n",
              "      <td>0.997664</td>\n",
              "    </tr>\n",
              "    <tr>\n",
              "      <th>precision</th>\n",
              "      <td>0.994713</td>\n",
              "      <td>0.996277</td>\n",
              "      <td>0.997664</td>\n",
              "    </tr>\n",
              "    <tr>\n",
              "      <th>recall</th>\n",
              "      <td>0.994713</td>\n",
              "      <td>0.996277</td>\n",
              "      <td>0.997664</td>\n",
              "    </tr>\n",
              "    <tr>\n",
              "      <th>f1score</th>\n",
              "      <td>0.994713</td>\n",
              "      <td>0.996277</td>\n",
              "      <td>0.997664</td>\n",
              "    </tr>\n",
              "  </tbody>\n",
              "</table>\n",
              "</div>\n",
              "    <div class=\"colab-df-buttons\">\n",
              "\n",
              "  <div class=\"colab-df-container\">\n",
              "    <button class=\"colab-df-convert\" onclick=\"convertToInteractive('df-7155fdaf-2b8c-4c0f-be4b-57784f37b67a')\"\n",
              "            title=\"Convert this dataframe to an interactive table.\"\n",
              "            style=\"display:none;\">\n",
              "\n",
              "  <svg xmlns=\"http://www.w3.org/2000/svg\" height=\"24px\" viewBox=\"0 -960 960 960\">\n",
              "    <path d=\"M120-120v-720h720v720H120Zm60-500h600v-160H180v160Zm220 220h160v-160H400v160Zm0 220h160v-160H400v160ZM180-400h160v-160H180v160Zm440 0h160v-160H620v160ZM180-180h160v-160H180v160Zm440 0h160v-160H620v160Z\"/>\n",
              "  </svg>\n",
              "    </button>\n",
              "\n",
              "  <style>\n",
              "    .colab-df-container {\n",
              "      display:flex;\n",
              "      gap: 12px;\n",
              "    }\n",
              "\n",
              "    .colab-df-convert {\n",
              "      background-color: #E8F0FE;\n",
              "      border: none;\n",
              "      border-radius: 50%;\n",
              "      cursor: pointer;\n",
              "      display: none;\n",
              "      fill: #1967D2;\n",
              "      height: 32px;\n",
              "      padding: 0 0 0 0;\n",
              "      width: 32px;\n",
              "    }\n",
              "\n",
              "    .colab-df-convert:hover {\n",
              "      background-color: #E2EBFA;\n",
              "      box-shadow: 0px 1px 2px rgba(60, 64, 67, 0.3), 0px 1px 3px 1px rgba(60, 64, 67, 0.15);\n",
              "      fill: #174EA6;\n",
              "    }\n",
              "\n",
              "    .colab-df-buttons div {\n",
              "      margin-bottom: 4px;\n",
              "    }\n",
              "\n",
              "    [theme=dark] .colab-df-convert {\n",
              "      background-color: #3B4455;\n",
              "      fill: #D2E3FC;\n",
              "    }\n",
              "\n",
              "    [theme=dark] .colab-df-convert:hover {\n",
              "      background-color: #434B5C;\n",
              "      box-shadow: 0px 1px 3px 1px rgba(0, 0, 0, 0.15);\n",
              "      filter: drop-shadow(0px 1px 2px rgba(0, 0, 0, 0.3));\n",
              "      fill: #FFFFFF;\n",
              "    }\n",
              "  </style>\n",
              "\n",
              "    <script>\n",
              "      const buttonEl =\n",
              "        document.querySelector('#df-7155fdaf-2b8c-4c0f-be4b-57784f37b67a button.colab-df-convert');\n",
              "      buttonEl.style.display =\n",
              "        google.colab.kernel.accessAllowed ? 'block' : 'none';\n",
              "\n",
              "      async function convertToInteractive(key) {\n",
              "        const element = document.querySelector('#df-7155fdaf-2b8c-4c0f-be4b-57784f37b67a');\n",
              "        const dataTable =\n",
              "          await google.colab.kernel.invokeFunction('convertToInteractive',\n",
              "                                                    [key], {});\n",
              "        if (!dataTable) return;\n",
              "\n",
              "        const docLinkHtml = 'Like what you see? Visit the ' +\n",
              "          '<a target=\"_blank\" href=https://colab.research.google.com/notebooks/data_table.ipynb>data table notebook</a>'\n",
              "          + ' to learn more about interactive tables.';\n",
              "        element.innerHTML = '';\n",
              "        dataTable['output_type'] = 'display_data';\n",
              "        await google.colab.output.renderOutput(dataTable, element);\n",
              "        const docLink = document.createElement('div');\n",
              "        docLink.innerHTML = docLinkHtml;\n",
              "        element.appendChild(docLink);\n",
              "      }\n",
              "    </script>\n",
              "  </div>\n",
              "\n",
              "\n",
              "<div id=\"df-9787cb84-26d8-4105-b95f-94e4e530a1c3\">\n",
              "  <button class=\"colab-df-quickchart\" onclick=\"quickchart('df-9787cb84-26d8-4105-b95f-94e4e530a1c3')\"\n",
              "            title=\"Suggest charts\"\n",
              "            style=\"display:none;\">\n",
              "\n",
              "<svg xmlns=\"http://www.w3.org/2000/svg\" height=\"24px\"viewBox=\"0 0 24 24\"\n",
              "     width=\"24px\">\n",
              "    <g>\n",
              "        <path d=\"M19 3H5c-1.1 0-2 .9-2 2v14c0 1.1.9 2 2 2h14c1.1 0 2-.9 2-2V5c0-1.1-.9-2-2-2zM9 17H7v-7h2v7zm4 0h-2V7h2v10zm4 0h-2v-4h2v4z\"/>\n",
              "    </g>\n",
              "</svg>\n",
              "  </button>\n",
              "\n",
              "<style>\n",
              "  .colab-df-quickchart {\n",
              "      --bg-color: #E8F0FE;\n",
              "      --fill-color: #1967D2;\n",
              "      --hover-bg-color: #E2EBFA;\n",
              "      --hover-fill-color: #174EA6;\n",
              "      --disabled-fill-color: #AAA;\n",
              "      --disabled-bg-color: #DDD;\n",
              "  }\n",
              "\n",
              "  [theme=dark] .colab-df-quickchart {\n",
              "      --bg-color: #3B4455;\n",
              "      --fill-color: #D2E3FC;\n",
              "      --hover-bg-color: #434B5C;\n",
              "      --hover-fill-color: #FFFFFF;\n",
              "      --disabled-bg-color: #3B4455;\n",
              "      --disabled-fill-color: #666;\n",
              "  }\n",
              "\n",
              "  .colab-df-quickchart {\n",
              "    background-color: var(--bg-color);\n",
              "    border: none;\n",
              "    border-radius: 50%;\n",
              "    cursor: pointer;\n",
              "    display: none;\n",
              "    fill: var(--fill-color);\n",
              "    height: 32px;\n",
              "    padding: 0;\n",
              "    width: 32px;\n",
              "  }\n",
              "\n",
              "  .colab-df-quickchart:hover {\n",
              "    background-color: var(--hover-bg-color);\n",
              "    box-shadow: 0 1px 2px rgba(60, 64, 67, 0.3), 0 1px 3px 1px rgba(60, 64, 67, 0.15);\n",
              "    fill: var(--button-hover-fill-color);\n",
              "  }\n",
              "\n",
              "  .colab-df-quickchart-complete:disabled,\n",
              "  .colab-df-quickchart-complete:disabled:hover {\n",
              "    background-color: var(--disabled-bg-color);\n",
              "    fill: var(--disabled-fill-color);\n",
              "    box-shadow: none;\n",
              "  }\n",
              "\n",
              "  .colab-df-spinner {\n",
              "    border: 2px solid var(--fill-color);\n",
              "    border-color: transparent;\n",
              "    border-bottom-color: var(--fill-color);\n",
              "    animation:\n",
              "      spin 1s steps(1) infinite;\n",
              "  }\n",
              "\n",
              "  @keyframes spin {\n",
              "    0% {\n",
              "      border-color: transparent;\n",
              "      border-bottom-color: var(--fill-color);\n",
              "      border-left-color: var(--fill-color);\n",
              "    }\n",
              "    20% {\n",
              "      border-color: transparent;\n",
              "      border-left-color: var(--fill-color);\n",
              "      border-top-color: var(--fill-color);\n",
              "    }\n",
              "    30% {\n",
              "      border-color: transparent;\n",
              "      border-left-color: var(--fill-color);\n",
              "      border-top-color: var(--fill-color);\n",
              "      border-right-color: var(--fill-color);\n",
              "    }\n",
              "    40% {\n",
              "      border-color: transparent;\n",
              "      border-right-color: var(--fill-color);\n",
              "      border-top-color: var(--fill-color);\n",
              "    }\n",
              "    60% {\n",
              "      border-color: transparent;\n",
              "      border-right-color: var(--fill-color);\n",
              "    }\n",
              "    80% {\n",
              "      border-color: transparent;\n",
              "      border-right-color: var(--fill-color);\n",
              "      border-bottom-color: var(--fill-color);\n",
              "    }\n",
              "    90% {\n",
              "      border-color: transparent;\n",
              "      border-bottom-color: var(--fill-color);\n",
              "    }\n",
              "  }\n",
              "</style>\n",
              "\n",
              "  <script>\n",
              "    async function quickchart(key) {\n",
              "      const quickchartButtonEl =\n",
              "        document.querySelector('#' + key + ' button');\n",
              "      quickchartButtonEl.disabled = true;  // To prevent multiple clicks.\n",
              "      quickchartButtonEl.classList.add('colab-df-spinner');\n",
              "      try {\n",
              "        const charts = await google.colab.kernel.invokeFunction(\n",
              "            'suggestCharts', [key], {});\n",
              "      } catch (error) {\n",
              "        console.error('Error during call to suggestCharts:', error);\n",
              "      }\n",
              "      quickchartButtonEl.classList.remove('colab-df-spinner');\n",
              "      quickchartButtonEl.classList.add('colab-df-quickchart-complete');\n",
              "    }\n",
              "    (() => {\n",
              "      let quickchartButtonEl =\n",
              "        document.querySelector('#df-9787cb84-26d8-4105-b95f-94e4e530a1c3 button');\n",
              "      quickchartButtonEl.style.display =\n",
              "        google.colab.kernel.accessAllowed ? 'block' : 'none';\n",
              "    })();\n",
              "  </script>\n",
              "</div>\n",
              "\n",
              "    </div>\n",
              "  </div>\n"
            ],
            "application/vnd.google.colaboratory.intrinsic+json": {
              "type": "dataframe",
              "summary": "{\n  \"name\": \"pd\",\n  \"rows\": 4,\n  \"fields\": [\n    {\n      \"column\": \"LOGISTIC REGRESSION\",\n      \"properties\": {\n        \"dtype\": \"number\",\n        \"std\": 0.0,\n        \"min\": 0.9947131553896843,\n        \"max\": 0.9947131553896843,\n        \"num_unique_values\": 1,\n        \"samples\": [\n          0.9947131553896843\n        ],\n        \"semantic_type\": \"\",\n        \"description\": \"\"\n      }\n    },\n    {\n      \"column\": \"DECISION TREE\",\n      \"properties\": {\n        \"dtype\": \"number\",\n        \"std\": 0.0,\n        \"min\": 0.9962768953373917,\n        \"max\": 0.9962768953373917,\n        \"num_unique_values\": 1,\n        \"samples\": [\n          0.9962768953373917\n        ],\n        \"semantic_type\": \"\",\n        \"description\": \"\"\n      }\n    },\n    {\n      \"column\": \"RANDOM FOREST\",\n      \"properties\": {\n        \"dtype\": \"number\",\n        \"std\": 0.0,\n        \"min\": 0.9976642871667155,\n        \"max\": 0.9976642871667155,\n        \"num_unique_values\": 1,\n        \"samples\": [\n          0.9976642871667155\n        ],\n        \"semantic_type\": \"\",\n        \"description\": \"\"\n      }\n    }\n  ]\n}"
            }
          },
          "metadata": {},
          "execution_count": 124
        }
      ]
    }
  ]
}
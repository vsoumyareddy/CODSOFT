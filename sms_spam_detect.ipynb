{
  "metadata": {
    "colab": {
      "provenance": [],
      "name": "sms spam detect",
      "include_colab_link": true
    },
    "kernelspec": {
      "name": "python3",
      "display_name": "Python 3",
      "language": "python"
    },
    "language_info": {
      "name": "python",
      "version": "3.10.13",
      "mimetype": "text/x-python",
      "codemirror_mode": {
        "name": "ipython",
        "version": 3
      },
      "pygments_lexer": "ipython3",
      "nbconvert_exporter": "python",
      "file_extension": ".py"
    },
    "kaggle": {
      "accelerator": "none",
      "dataSources": [
        {
          "sourceId": 982,
          "sourceType": "datasetVersion",
          "datasetId": 483
        }
      ],
      "dockerImageVersionId": 30684,
      "isInternetEnabled": false,
      "language": "python",
      "sourceType": "notebook",
      "isGpuEnabled": false
    }
  },
  "nbformat_minor": 0,
  "nbformat": 4,
  "cells": [
    {
      "cell_type": "markdown",
      "metadata": {
        "id": "view-in-github",
        "colab_type": "text"
      },
      "source": [
        "<a href=\"https://colab.research.google.com/github/vsoumyareddy/CODSOFT/blob/main/sms_spam_detect.ipynb\" target=\"_parent\"><img src=\"https://colab.research.google.com/assets/colab-badge.svg\" alt=\"Open In Colab\"/></a>"
      ]
    },
    {
      "source": [
        "\n",
        "# IMPORTANT: RUN THIS CELL IN ORDER TO IMPORT YOUR KAGGLE DATA SOURCES\n",
        "# TO THE CORRECT LOCATION (/kaggle/input) IN YOUR NOTEBOOK,\n",
        "# THEN FEEL FREE TO DELETE THIS CELL.\n",
        "# NOTE: THIS NOTEBOOK ENVIRONMENT DIFFERS FROM KAGGLE'S PYTHON\n",
        "# ENVIRONMENT SO THERE MAY BE MISSING LIBRARIES USED BY YOUR\n",
        "# NOTEBOOK.\n",
        "\n",
        "import os\n",
        "import sys\n",
        "from tempfile import NamedTemporaryFile\n",
        "from urllib.request import urlopen\n",
        "from urllib.parse import unquote, urlparse\n",
        "from urllib.error import HTTPError\n",
        "from zipfile import ZipFile\n",
        "import tarfile\n",
        "import shutil\n",
        "\n",
        "CHUNK_SIZE = 40960\n",
        "DATA_SOURCE_MAPPING = 'sms-spam-collection-dataset:https%3A%2F%2Fstorage.googleapis.com%2Fkaggle-data-sets%2F483%2F982%2Fbundle%2Farchive.zip%3FX-Goog-Algorithm%3DGOOG4-RSA-SHA256%26X-Goog-Credential%3Dgcp-kaggle-com%2540kaggle-161607.iam.gserviceaccount.com%252F20240419%252Fauto%252Fstorage%252Fgoog4_request%26X-Goog-Date%3D20240419T155205Z%26X-Goog-Expires%3D259200%26X-Goog-SignedHeaders%3Dhost%26X-Goog-Signature%3D2143886a62fd72272e251bb0d4ec3a4cdb1b01f883cb616af576008522e8189544ffe2ff696feda183467d58218e27128938204e4404194e69f2d5e29f74fdb67d7ed181ab621178a09c8176c9e404628976f971b5ab2f0c061919d3a4a29ffbea34615d461e42cbacdb44154183c5c53787abf7a8f19f75b7e1b8e128d804f53ecfe605d97f7a0f44434b48caf0c5a7d458d220ab2a069c01cfe1e4ebbffbbbdbef8df378fb96c9b6eeefe0712e5716c16f9627c2b3fbe0748e423150cbd8ca4ea997f49e7f0985af78388c9abdb89d3201b0cc8bb476f988d6deff6547eae4ec8a7ed805d357940bf8c742621868e7f0157c84335388631649ee93c760890e'\n",
        "\n",
        "KAGGLE_INPUT_PATH='/kaggle/input'\n",
        "KAGGLE_WORKING_PATH='/kaggle/working'\n",
        "KAGGLE_SYMLINK='kaggle'\n",
        "\n",
        "!umount /kaggle/input/ 2> /dev/null\n",
        "shutil.rmtree('/kaggle/input', ignore_errors=True)\n",
        "os.makedirs(KAGGLE_INPUT_PATH, 0o777, exist_ok=True)\n",
        "os.makedirs(KAGGLE_WORKING_PATH, 0o777, exist_ok=True)\n",
        "\n",
        "try:\n",
        "  os.symlink(KAGGLE_INPUT_PATH, os.path.join(\"..\", 'input'), target_is_directory=True)\n",
        "except FileExistsError:\n",
        "  pass\n",
        "try:\n",
        "  os.symlink(KAGGLE_WORKING_PATH, os.path.join(\"..\", 'working'), target_is_directory=True)\n",
        "except FileExistsError:\n",
        "  pass\n",
        "\n",
        "for data_source_mapping in DATA_SOURCE_MAPPING.split(','):\n",
        "    directory, download_url_encoded = data_source_mapping.split(':')\n",
        "    download_url = unquote(download_url_encoded)\n",
        "    filename = urlparse(download_url).path\n",
        "    destination_path = os.path.join(KAGGLE_INPUT_PATH, directory)\n",
        "    try:\n",
        "        with urlopen(download_url) as fileres, NamedTemporaryFile() as tfile:\n",
        "            total_length = fileres.headers['content-length']\n",
        "            print(f'Downloading {directory}, {total_length} bytes compressed')\n",
        "            dl = 0\n",
        "            data = fileres.read(CHUNK_SIZE)\n",
        "            while len(data) > 0:\n",
        "                dl += len(data)\n",
        "                tfile.write(data)\n",
        "                done = int(50 * dl / int(total_length))\n",
        "                sys.stdout.write(f\"\\r[{'=' * done}{' ' * (50-done)}] {dl} bytes downloaded\")\n",
        "                sys.stdout.flush()\n",
        "                data = fileres.read(CHUNK_SIZE)\n",
        "            if filename.endswith('.zip'):\n",
        "              with ZipFile(tfile) as zfile:\n",
        "                zfile.extractall(destination_path)\n",
        "            else:\n",
        "              with tarfile.open(tfile.name) as tarfile:\n",
        "                tarfile.extractall(destination_path)\n",
        "            print(f'\\nDownloaded and uncompressed: {directory}')\n",
        "    except HTTPError as e:\n",
        "        print(f'Failed to load (likely expired) {download_url} to path {destination_path}')\n",
        "        continue\n",
        "    except OSError as e:\n",
        "        print(f'Failed to load {download_url} to path {destination_path}')\n",
        "        continue\n",
        "\n",
        "print('Data source import complete.')\n"
      ],
      "metadata": {
        "id": "aWMcjGUWDrXy"
      },
      "cell_type": "code",
      "outputs": [],
      "execution_count": null
    },
    {
      "cell_type": "code",
      "source": [
        "import pandas as pd\n",
        "import numpy as np\n",
        "import matplotlib.pyplot as plt\n",
        "import seaborn as sns\n",
        "from sklearn.svm import SVC\n",
        "from sklearn.naive_bayes import GaussianNB\n",
        "from sklearn.linear_model import LogisticRegression\n",
        "from sklearn.metrics import (accuracy_score, precision_score,\n",
        "                             recall_score, f1_score)"
      ],
      "metadata": {
        "id": "bFuCd8MJ9Qcq",
        "execution": {
          "iopub.status.busy": "2024-04-19T15:40:01.764226Z",
          "iopub.execute_input": "2024-04-19T15:40:01.764667Z",
          "iopub.status.idle": "2024-04-19T15:40:01.771673Z",
          "shell.execute_reply.started": "2024-04-19T15:40:01.764637Z",
          "shell.execute_reply": "2024-04-19T15:40:01.770548Z"
        },
        "trusted": true
      },
      "execution_count": null,
      "outputs": []
    },
    {
      "cell_type": "code",
      "source": [
        "df=pd.read_csv(\"/kaggle/input/sms-spam-collection-dataset/spam.csv\",encoding=\"ISO-8859-1\")"
      ],
      "metadata": {
        "id": "gkgsfPT29UJ3",
        "execution": {
          "iopub.status.busy": "2024-04-19T15:40:01.774444Z",
          "iopub.execute_input": "2024-04-19T15:40:01.775952Z",
          "iopub.status.idle": "2024-04-19T15:40:01.802247Z",
          "shell.execute_reply.started": "2024-04-19T15:40:01.775894Z",
          "shell.execute_reply": "2024-04-19T15:40:01.800949Z"
        },
        "trusted": true
      },
      "execution_count": null,
      "outputs": []
    },
    {
      "cell_type": "code",
      "source": [
        "df.head()"
      ],
      "metadata": {
        "id": "tmhgpPek9cqc",
        "execution": {
          "iopub.status.busy": "2024-04-19T15:40:01.803933Z",
          "iopub.execute_input": "2024-04-19T15:40:01.804413Z",
          "iopub.status.idle": "2024-04-19T15:40:01.817396Z",
          "shell.execute_reply.started": "2024-04-19T15:40:01.80438Z",
          "shell.execute_reply": "2024-04-19T15:40:01.816139Z"
        },
        "trusted": true
      },
      "execution_count": null,
      "outputs": []
    },
    {
      "cell_type": "code",
      "source": [
        "df.info()"
      ],
      "metadata": {
        "id": "IPIsDGOM-O6g",
        "execution": {
          "iopub.status.busy": "2024-04-19T15:40:01.820374Z",
          "iopub.execute_input": "2024-04-19T15:40:01.820759Z",
          "iopub.status.idle": "2024-04-19T15:40:01.835702Z",
          "shell.execute_reply.started": "2024-04-19T15:40:01.820728Z",
          "shell.execute_reply": "2024-04-19T15:40:01.834263Z"
        },
        "trusted": true
      },
      "execution_count": null,
      "outputs": []
    },
    {
      "cell_type": "code",
      "source": [
        "df.shape"
      ],
      "metadata": {
        "execution": {
          "iopub.status.busy": "2024-04-19T15:40:01.837974Z",
          "iopub.execute_input": "2024-04-19T15:40:01.839558Z",
          "iopub.status.idle": "2024-04-19T15:40:01.848975Z",
          "shell.execute_reply.started": "2024-04-19T15:40:01.839506Z",
          "shell.execute_reply": "2024-04-19T15:40:01.847826Z"
        },
        "trusted": true,
        "id": "EMSeC-lIDrYA"
      },
      "execution_count": null,
      "outputs": []
    },
    {
      "cell_type": "code",
      "source": [
        "df.drop(columns=['Unnamed: 2','Unnamed: 3','Unnamed: 4'])"
      ],
      "metadata": {
        "id": "q2r4naDT-nMZ",
        "execution": {
          "iopub.status.busy": "2024-04-19T15:40:01.850685Z",
          "iopub.execute_input": "2024-04-19T15:40:01.851787Z",
          "iopub.status.idle": "2024-04-19T15:40:01.873856Z",
          "shell.execute_reply.started": "2024-04-19T15:40:01.851744Z",
          "shell.execute_reply": "2024-04-19T15:40:01.872683Z"
        },
        "trusted": true
      },
      "execution_count": null,
      "outputs": []
    },
    {
      "cell_type": "code",
      "source": [
        "df.head()"
      ],
      "metadata": {
        "id": "DtTGEwmx_Qem",
        "execution": {
          "iopub.status.busy": "2024-04-19T15:40:01.875168Z",
          "iopub.execute_input": "2024-04-19T15:40:01.876005Z",
          "iopub.status.idle": "2024-04-19T15:40:01.889082Z",
          "shell.execute_reply.started": "2024-04-19T15:40:01.875973Z",
          "shell.execute_reply": "2024-04-19T15:40:01.887804Z"
        },
        "trusted": true
      },
      "execution_count": null,
      "outputs": []
    },
    {
      "cell_type": "code",
      "source": [
        "# Checking for null values\n",
        "df.isna().sum()"
      ],
      "metadata": {
        "id": "UN3irwR4_Sv2",
        "execution": {
          "iopub.status.busy": "2024-04-19T15:40:01.890672Z",
          "iopub.execute_input": "2024-04-19T15:40:01.892926Z",
          "iopub.status.idle": "2024-04-19T15:40:01.911038Z",
          "shell.execute_reply.started": "2024-04-19T15:40:01.892848Z",
          "shell.execute_reply": "2024-04-19T15:40:01.910101Z"
        },
        "trusted": true
      },
      "execution_count": null,
      "outputs": []
    },
    {
      "cell_type": "code",
      "source": [
        "# Checking and droping Duplicate values\n",
        "df.duplicated().sum()\n",
        "df=df.drop_duplicates()"
      ],
      "metadata": {
        "id": "EFA0AwL3_npf",
        "execution": {
          "iopub.status.busy": "2024-04-19T15:40:01.912181Z",
          "iopub.execute_input": "2024-04-19T15:40:01.913675Z",
          "iopub.status.idle": "2024-04-19T15:40:01.931361Z",
          "shell.execute_reply.started": "2024-04-19T15:40:01.913635Z",
          "shell.execute_reply": "2024-04-19T15:40:01.93013Z"
        },
        "trusted": true
      },
      "execution_count": null,
      "outputs": []
    },
    {
      "cell_type": "code",
      "source": [
        "# Converting Target column into numerical 0 and 1\n",
        "from sklearn.preprocessing import LabelEncoder\n",
        "encoder=LabelEncoder()"
      ],
      "metadata": {
        "id": "CRyI7Opt_1bc",
        "execution": {
          "iopub.status.busy": "2024-04-19T15:40:01.935448Z",
          "iopub.execute_input": "2024-04-19T15:40:01.93592Z",
          "iopub.status.idle": "2024-04-19T15:40:01.941988Z",
          "shell.execute_reply.started": "2024-04-19T15:40:01.935883Z",
          "shell.execute_reply": "2024-04-19T15:40:01.940331Z"
        },
        "trusted": true
      },
      "execution_count": null,
      "outputs": []
    },
    {
      "cell_type": "code",
      "source": [
        "df['v1']=encoder.fit_transform(df['v1'])"
      ],
      "metadata": {
        "id": "PYeDRxwwAD7b",
        "execution": {
          "iopub.status.busy": "2024-04-19T15:40:01.943511Z",
          "iopub.execute_input": "2024-04-19T15:40:01.943856Z",
          "iopub.status.idle": "2024-04-19T15:40:01.956086Z",
          "shell.execute_reply.started": "2024-04-19T15:40:01.943829Z",
          "shell.execute_reply": "2024-04-19T15:40:01.954805Z"
        },
        "trusted": true
      },
      "execution_count": null,
      "outputs": []
    },
    {
      "cell_type": "code",
      "source": [
        "df.head()"
      ],
      "metadata": {
        "id": "E3lhteE_BOw7",
        "execution": {
          "iopub.status.busy": "2024-04-19T15:40:01.959799Z",
          "iopub.execute_input": "2024-04-19T15:40:01.960435Z",
          "iopub.status.idle": "2024-04-19T15:40:01.975442Z",
          "shell.execute_reply.started": "2024-04-19T15:40:01.960393Z",
          "shell.execute_reply": "2024-04-19T15:40:01.973435Z"
        },
        "trusted": true
      },
      "execution_count": null,
      "outputs": []
    },
    {
      "cell_type": "code",
      "source": [
        "df['v1'].value_counts()"
      ],
      "metadata": {
        "id": "RRYjMJ62DVoP",
        "execution": {
          "iopub.status.busy": "2024-04-19T15:40:01.97701Z",
          "iopub.execute_input": "2024-04-19T15:40:01.978118Z",
          "iopub.status.idle": "2024-04-19T15:40:01.990169Z",
          "shell.execute_reply.started": "2024-04-19T15:40:01.978073Z",
          "shell.execute_reply": "2024-04-19T15:40:01.989282Z"
        },
        "trusted": true
      },
      "execution_count": null,
      "outputs": []
    },
    {
      "cell_type": "code",
      "source": [
        "# Check the Target value using pie chart\n",
        "plt.pie(df['v1'].value_counts(), labels=['Ham','Spam'],autopct='%.2f')\n",
        "plt.show()"
      ],
      "metadata": {
        "id": "vRR5GrscDXov",
        "execution": {
          "iopub.status.busy": "2024-04-19T15:40:01.991493Z",
          "iopub.execute_input": "2024-04-19T15:40:01.992675Z",
          "iopub.status.idle": "2024-04-19T15:40:02.122723Z",
          "shell.execute_reply.started": "2024-04-19T15:40:01.99264Z",
          "shell.execute_reply": "2024-04-19T15:40:02.121194Z"
        },
        "trusted": true
      },
      "execution_count": null,
      "outputs": []
    },
    {
      "cell_type": "markdown",
      "source": [
        "DATA PREPROCESSING"
      ],
      "metadata": {
        "id": "4nHreWTTEyAy"
      }
    },
    {
      "cell_type": "code",
      "source": [
        "import nltk\n",
        "nltk.download('punkt')\n",
        "from nltk.corpus import stopwords\n",
        "nltk.download('stopwords')\n",
        "import string\n",
        "string.punctuation\n",
        "from nltk.stem.porter import PorterStemmer"
      ],
      "metadata": {
        "id": "ktxDnc_1a9wn",
        "execution": {
          "iopub.status.busy": "2024-04-19T15:40:02.124562Z",
          "iopub.execute_input": "2024-04-19T15:40:02.125014Z",
          "iopub.status.idle": "2024-04-19T15:40:42.201539Z",
          "shell.execute_reply.started": "2024-04-19T15:40:02.124975Z",
          "shell.execute_reply": "2024-04-19T15:40:42.200663Z"
        },
        "trusted": true
      },
      "execution_count": null,
      "outputs": []
    },
    {
      "cell_type": "code",
      "source": [
        "def process_text(text):\n",
        "  text=text.lower()\n",
        "\n",
        "#tokenization\n",
        "  text=nltk.word_tokenize(text)\n",
        "\n",
        "# removing stopwords an punctuation\n",
        "  x=[]\n",
        "  for i in text:\n",
        "      if i not in stopwords.words('english') and i not in string.punctuation:\n",
        "        x.append(i)\n",
        "\n",
        "  text=x[:]\n",
        "  x.clear( )\n",
        "\n",
        "  ps=PorterStemmer()\n",
        "  for i in text:\n",
        "    x.append(ps.stem(i))\n",
        "\n",
        "  return \" \".join(x)\n"
      ],
      "metadata": {
        "id": "hW0mqTSuDsD3",
        "execution": {
          "iopub.status.busy": "2024-04-19T15:40:42.203725Z",
          "iopub.execute_input": "2024-04-19T15:40:42.205245Z",
          "iopub.status.idle": "2024-04-19T15:40:42.21174Z",
          "shell.execute_reply.started": "2024-04-19T15:40:42.205198Z",
          "shell.execute_reply": "2024-04-19T15:40:42.210634Z"
        },
        "trusted": true
      },
      "execution_count": null,
      "outputs": []
    },
    {
      "cell_type": "code",
      "source": [
        "df['Transformed_text']=df['v2'].apply(process_text)"
      ],
      "metadata": {
        "id": "s43G-Fx7ZWj3",
        "execution": {
          "iopub.status.busy": "2024-04-19T15:40:42.213353Z",
          "iopub.execute_input": "2024-04-19T15:40:42.214167Z",
          "iopub.status.idle": "2024-04-19T15:40:57.745839Z",
          "shell.execute_reply.started": "2024-04-19T15:40:42.214136Z",
          "shell.execute_reply": "2024-04-19T15:40:57.744226Z"
        },
        "trusted": true
      },
      "execution_count": null,
      "outputs": []
    },
    {
      "cell_type": "code",
      "source": [
        "df.head()\n"
      ],
      "metadata": {
        "id": "J80QH3UxYhAh",
        "execution": {
          "iopub.status.busy": "2024-04-19T15:40:57.747524Z",
          "iopub.execute_input": "2024-04-19T15:40:57.747886Z",
          "iopub.status.idle": "2024-04-19T15:40:57.763518Z",
          "shell.execute_reply.started": "2024-04-19T15:40:57.74786Z",
          "shell.execute_reply": "2024-04-19T15:40:57.762049Z"
        },
        "trusted": true
      },
      "execution_count": null,
      "outputs": []
    },
    {
      "cell_type": "markdown",
      "source": [
        "TF-IDF"
      ],
      "metadata": {
        "id": "L3SaPAkzkp1H"
      }
    },
    {
      "cell_type": "code",
      "source": [
        "from sklearn.feature_extraction.text import TfidfVectorizer"
      ],
      "metadata": {
        "id": "khuu2DBTl4Uc",
        "execution": {
          "iopub.status.busy": "2024-04-19T15:40:57.765361Z",
          "iopub.execute_input": "2024-04-19T15:40:57.767073Z",
          "iopub.status.idle": "2024-04-19T15:40:57.77279Z",
          "shell.execute_reply.started": "2024-04-19T15:40:57.766992Z",
          "shell.execute_reply": "2024-04-19T15:40:57.771803Z"
        },
        "trusted": true
      },
      "execution_count": null,
      "outputs": []
    },
    {
      "cell_type": "code",
      "source": [
        "tfidf = TfidfVectorizer(max_features=3000)"
      ],
      "metadata": {
        "id": "G3X5RrpIl7lc",
        "execution": {
          "iopub.status.busy": "2024-04-19T15:40:57.774028Z",
          "iopub.execute_input": "2024-04-19T15:40:57.774358Z",
          "iopub.status.idle": "2024-04-19T15:40:57.790727Z",
          "shell.execute_reply.started": "2024-04-19T15:40:57.774333Z",
          "shell.execute_reply": "2024-04-19T15:40:57.789429Z"
        },
        "trusted": true
      },
      "execution_count": null,
      "outputs": []
    },
    {
      "cell_type": "code",
      "source": [
        "# Fit and transform the 'Transformed_text' column\n",
        "X = tfidf.fit_transform(df['Transformed_text'])\n",
        "\n",
        "\n",
        "print(\"Shape of X:\", X.shape)"
      ],
      "metadata": {
        "execution": {
          "iopub.status.busy": "2024-04-19T15:40:57.793091Z",
          "iopub.execute_input": "2024-04-19T15:40:57.793568Z",
          "iopub.status.idle": "2024-04-19T15:40:57.885559Z",
          "shell.execute_reply.started": "2024-04-19T15:40:57.793537Z",
          "shell.execute_reply": "2024-04-19T15:40:57.884263Z"
        },
        "trusted": true,
        "id": "l8HfbTGEDrYN"
      },
      "execution_count": null,
      "outputs": []
    },
    {
      "cell_type": "code",
      "source": [
        "X.shape"
      ],
      "metadata": {
        "id": "5VKGLkhim9YL",
        "execution": {
          "iopub.status.busy": "2024-04-19T15:40:57.888552Z",
          "iopub.execute_input": "2024-04-19T15:40:57.88892Z",
          "iopub.status.idle": "2024-04-19T15:40:57.895736Z",
          "shell.execute_reply.started": "2024-04-19T15:40:57.88889Z",
          "shell.execute_reply": "2024-04-19T15:40:57.894687Z"
        },
        "trusted": true
      },
      "execution_count": null,
      "outputs": []
    },
    {
      "cell_type": "code",
      "source": [
        "y = df['v1'].values"
      ],
      "metadata": {
        "id": "dN_kV6XgnFdy",
        "execution": {
          "iopub.status.busy": "2024-04-19T15:40:57.897504Z",
          "iopub.execute_input": "2024-04-19T15:40:57.897916Z",
          "iopub.status.idle": "2024-04-19T15:40:57.905593Z",
          "shell.execute_reply.started": "2024-04-19T15:40:57.897877Z",
          "shell.execute_reply": "2024-04-19T15:40:57.904196Z"
        },
        "trusted": true
      },
      "execution_count": null,
      "outputs": []
    },
    {
      "cell_type": "code",
      "source": [
        "from sklearn.model_selection import train_test_split"
      ],
      "metadata": {
        "id": "ibBVoutWnHOZ",
        "execution": {
          "iopub.status.busy": "2024-04-19T15:40:57.906951Z",
          "iopub.execute_input": "2024-04-19T15:40:57.907969Z",
          "iopub.status.idle": "2024-04-19T15:40:57.916433Z",
          "shell.execute_reply.started": "2024-04-19T15:40:57.907937Z",
          "shell.execute_reply": "2024-04-19T15:40:57.915371Z"
        },
        "trusted": true
      },
      "execution_count": null,
      "outputs": []
    },
    {
      "cell_type": "code",
      "source": [
        "x_train,x_test,y_train,y_test = train_test_split(X.toarray(),y,test_size=0.2,random_state=2)"
      ],
      "metadata": {
        "id": "MASlH0c1nInp",
        "execution": {
          "iopub.status.busy": "2024-04-19T15:43:18.877769Z",
          "iopub.execute_input": "2024-04-19T15:43:18.87815Z",
          "iopub.status.idle": "2024-04-19T15:43:19.065753Z",
          "shell.execute_reply.started": "2024-04-19T15:43:18.878123Z",
          "shell.execute_reply": "2024-04-19T15:43:19.064656Z"
        },
        "trusted": true
      },
      "execution_count": null,
      "outputs": []
    },
    {
      "cell_type": "markdown",
      "source": [
        "LOGISTIC REGRESSION"
      ],
      "metadata": {
        "id": "oyK5mpEqDrYN"
      }
    },
    {
      "cell_type": "code",
      "source": [
        "lr = LogisticRegression()\n",
        "lr.fit(x_train, y_train)\n",
        "accuracy_score(y_train, lr.predict(x_train))"
      ],
      "metadata": {
        "execution": {
          "iopub.status.busy": "2024-04-19T15:43:22.079895Z",
          "iopub.execute_input": "2024-04-19T15:43:22.080281Z",
          "iopub.status.idle": "2024-04-19T15:43:22.570699Z",
          "shell.execute_reply.started": "2024-04-19T15:43:22.080252Z",
          "shell.execute_reply": "2024-04-19T15:43:22.569436Z"
        },
        "trusted": true,
        "id": "yplOyLMcDrYO"
      },
      "execution_count": null,
      "outputs": []
    },
    {
      "cell_type": "code",
      "source": [
        "accuracy_score(y_test, lr.predict(x_test))"
      ],
      "metadata": {
        "execution": {
          "iopub.status.busy": "2024-04-19T15:43:25.939766Z",
          "iopub.execute_input": "2024-04-19T15:43:25.940152Z",
          "iopub.status.idle": "2024-04-19T15:43:25.954728Z",
          "shell.execute_reply.started": "2024-04-19T15:43:25.940121Z",
          "shell.execute_reply": "2024-04-19T15:43:25.952988Z"
        },
        "trusted": true,
        "id": "v4P60qPkDrYO"
      },
      "execution_count": null,
      "outputs": []
    },
    {
      "cell_type": "code",
      "source": [
        "table_1={}\n",
        "table_1[\"LOGISTIC REGRESSION\"] = (accuracy_score(y_test, lr.predict(x_test)),\n",
        "                               precision_score(y_test, lr.predict(x_test)),\n",
        "                               recall_score(y_test, lr.predict(x_test)),\n",
        "                               f1_score(y_test, lr.predict(x_test)))"
      ],
      "metadata": {
        "execution": {
          "iopub.status.busy": "2024-04-19T15:43:26.144376Z",
          "iopub.execute_input": "2024-04-19T15:43:26.145333Z",
          "iopub.status.idle": "2024-04-19T15:43:26.180772Z",
          "shell.execute_reply.started": "2024-04-19T15:43:26.145301Z",
          "shell.execute_reply": "2024-04-19T15:43:26.179444Z"
        },
        "trusted": true,
        "id": "LN1RISGhDrYO"
      },
      "execution_count": null,
      "outputs": []
    },
    {
      "cell_type": "markdown",
      "source": [
        "SVM"
      ],
      "metadata": {
        "id": "giy6AVlqDrYP"
      }
    },
    {
      "cell_type": "code",
      "source": [
        "svm= SVC()\n",
        "svm.fit(x_train, y_train)\n",
        "accuracy_score(y_train, svm.predict(x_train))"
      ],
      "metadata": {
        "execution": {
          "iopub.status.busy": "2024-04-19T15:43:50.92955Z",
          "iopub.execute_input": "2024-04-19T15:43:50.929915Z",
          "iopub.status.idle": "2024-04-19T15:44:34.591387Z",
          "shell.execute_reply.started": "2024-04-19T15:43:50.929888Z",
          "shell.execute_reply": "2024-04-19T15:44:34.590436Z"
        },
        "trusted": true,
        "id": "hilRqrJpDrYP"
      },
      "execution_count": null,
      "outputs": []
    },
    {
      "cell_type": "code",
      "source": [
        "accuracy_score(y_test, svm.predict(x_test))"
      ],
      "metadata": {
        "execution": {
          "iopub.status.busy": "2024-04-19T15:44:54.061512Z",
          "iopub.execute_input": "2024-04-19T15:44:54.062362Z",
          "iopub.status.idle": "2024-04-19T15:45:00.484638Z",
          "shell.execute_reply.started": "2024-04-19T15:44:54.062331Z",
          "shell.execute_reply": "2024-04-19T15:45:00.483271Z"
        },
        "trusted": true,
        "id": "ZPOfxeIfDrYP"
      },
      "execution_count": null,
      "outputs": []
    },
    {
      "cell_type": "code",
      "source": [
        "table_1[\"SVM\"] = (accuracy_score(y_test, svm.predict(x_test)),\n",
        "                               precision_score(y_test, svm.predict(x_test)),\n",
        "                               recall_score(y_test, svm.predict(x_test)),\n",
        "                               f1_score(y_test, svm.predict(x_test)))"
      ],
      "metadata": {
        "execution": {
          "iopub.status.busy": "2024-04-19T15:45:00.4861Z",
          "iopub.execute_input": "2024-04-19T15:45:00.486453Z",
          "iopub.status.idle": "2024-04-19T15:45:26.635521Z",
          "shell.execute_reply.started": "2024-04-19T15:45:00.486426Z",
          "shell.execute_reply": "2024-04-19T15:45:26.634272Z"
        },
        "trusted": true,
        "id": "7hqd5Ch_DrYQ"
      },
      "execution_count": null,
      "outputs": []
    },
    {
      "cell_type": "markdown",
      "source": [
        "NAVIE BAYES"
      ],
      "metadata": {
        "id": "suyB-R16DrYQ"
      }
    },
    {
      "cell_type": "code",
      "source": [
        "nb = GaussianNB()\n",
        "nb.fit(x_train, y_train)\n",
        "accuracy_score(y_train, nb.predict(x_train))"
      ],
      "metadata": {
        "execution": {
          "iopub.status.busy": "2024-04-19T15:45:26.636972Z",
          "iopub.execute_input": "2024-04-19T15:45:26.637298Z",
          "iopub.status.idle": "2024-04-19T15:45:27.078503Z",
          "shell.execute_reply.started": "2024-04-19T15:45:26.637272Z",
          "shell.execute_reply": "2024-04-19T15:45:27.077652Z"
        },
        "trusted": true,
        "id": "eK1VCZRwDrYR"
      },
      "execution_count": null,
      "outputs": []
    },
    {
      "cell_type": "code",
      "source": [
        "accuracy_score(y_test, nb.predict(x_test))"
      ],
      "metadata": {
        "execution": {
          "iopub.status.busy": "2024-04-19T15:45:27.079359Z",
          "iopub.execute_input": "2024-04-19T15:45:27.079699Z",
          "iopub.status.idle": "2024-04-19T15:45:27.142011Z",
          "shell.execute_reply.started": "2024-04-19T15:45:27.079672Z",
          "shell.execute_reply": "2024-04-19T15:45:27.14069Z"
        },
        "trusted": true,
        "id": "IknUOlZzDrYR"
      },
      "execution_count": null,
      "outputs": []
    },
    {
      "cell_type": "code",
      "source": [
        "table_1[\"NAVIE BAYES\"] = (accuracy_score(y_test, nb.predict(x_test)),\n",
        "                               precision_score(y_test, nb.predict(x_test)),\n",
        "                               recall_score(y_test, nb.predict(x_test)),\n",
        "                               f1_score(y_test, nb.predict(x_test)))"
      ],
      "metadata": {
        "execution": {
          "iopub.status.busy": "2024-04-19T15:45:27.143379Z",
          "iopub.execute_input": "2024-04-19T15:45:27.144358Z",
          "iopub.status.idle": "2024-04-19T15:45:27.386646Z",
          "shell.execute_reply.started": "2024-04-19T15:45:27.144321Z",
          "shell.execute_reply": "2024-04-19T15:45:27.385428Z"
        },
        "trusted": true,
        "id": "F39Et7yhDrYp"
      },
      "execution_count": null,
      "outputs": []
    },
    {
      "cell_type": "code",
      "source": [
        "pd.DataFrame(table_1, index=[\"accuracy\", \"precision\", \"recall\", \"f1score\"])"
      ],
      "metadata": {
        "execution": {
          "iopub.status.busy": "2024-04-19T15:45:27.389223Z",
          "iopub.execute_input": "2024-04-19T15:45:27.389575Z",
          "iopub.status.idle": "2024-04-19T15:45:27.405413Z",
          "shell.execute_reply.started": "2024-04-19T15:45:27.389548Z",
          "shell.execute_reply": "2024-04-19T15:45:27.40359Z"
        },
        "trusted": true,
        "id": "jpHymw71DrYq"
      },
      "execution_count": null,
      "outputs": []
    }
  ]
}